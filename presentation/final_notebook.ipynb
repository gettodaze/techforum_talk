{
  "cells": [
    {
      "cell_type": "markdown",
      "id": "0",
      "metadata": {
        "slideshow": {
          "slide_type": "slide"
        }
      },
      "source": [
        "# My Title"
      ]
    },
    {
      "cell_type": "markdown",
      "id": "1",
      "metadata": {
        "slideshow": {
          "slide_type": "fragment"
        }
      },
      "source": [
        "- John McCloskey"
      ]
    },
    {
      "cell_type": "markdown",
      "id": "2",
      "metadata": {
        "slideshow": {
          "slide_type": "slide"
        }
      },
      "source": [
        "# Intro"
      ]
    },
    {
      "cell_type": "markdown",
      "id": "3",
      "metadata": {
        "slideshow": {
          "slide_type": "fragment"
        }
      },
      "source": [
        "Hi everyone, and welcome to my talk. I'm John McCloskey and I am on a mission to get all of you to consider using python in your everyday lives. For the non-programmers out there, I know you might think, but I don't know programming, and besides where would I ever have the opportunity to use python in my every day life? I have two answers to that."
      ]
    },
    {
      "cell_type": "markdown",
      "id": "4",
      "metadata": {
        "slideshow": {
          "slide_type": "fragment"
        }
      },
      "source": [
        "1) It's simpler than you might expect!"
      ]
    },
    {
      "cell_type": "markdown",
      "id": "5",
      "metadata": {
        "slideshow": {
          "slide_type": "fragment"
        }
      },
      "source": [
        "2) Let us go through some examples of where you might want to use python."
      ]
    },
    {
      "cell_type": "markdown",
      "id": "6",
      "metadata": {
        "slideshow": {
          "slide_type": "slide"
        }
      },
      "source": [
        "# Use Case 1:"
      ]
    },
    {
      "cell_type": "markdown",
      "id": "7",
      "metadata": {
        "slideshow": {
          "slide_type": "fragment"
        }
      },
      "source": [
        "- Imagine, you are sitting at your desk at research affiliates. It's time for morning standup and you need to have a progress report from yesterday. For that specific purpose, you have a log you keep track of:"
      ]
    },
    {
      "cell_type": "markdown",
      "id": "8",
      "metadata": {
        "slideshow": {
          "slide_type": "fragment"
        }
      },
      "source": [
        "![example_log](images/example_log.png)"
      ]
    },
    {
      "cell_type": "markdown",
      "id": "9",
      "metadata": {
        "slideshow": {
          "slide_type": "fragment"
        }
      },
      "source": [
        "- You realize you actually spend a lot of your time writing the time! If only you could easily make note of writing what you're doing, without having to figure out what time it is and write it out. It will probably save you at least 30 minutes a week."
      ]
    },
    {
      "cell_type": "markdown",
      "id": "10",
      "metadata": {
        "slideshow": {
          "slide_type": "fragment"
        }
      },
      "source": [
        "- But you can't find the exact program that fits your needs! Well, Python can do that for you:"
      ]
    },
    {
      "cell_type": "markdown",
      "id": "11",
      "metadata": {
        "slideshow": {
          "slide_type": "subslide"
        }
      },
      "source": [
        "## Basic Time Logger"
      ]
    },
    {
      "cell_type": "code",
      "execution_count": null,
      "id": "12",
      "metadata": {
        "slideshow": {
          "slide_type": "fragment"
        }
      },
      "outputs": [],
      "source": [
        "from datetime import datetime\n",
        "\n",
        "OUTPATH = \"/home/mccloskey/src/john/techforum_talk/output/my_logs.txt\"\n",
        "\n",
        "def main():\n",
        "    while True:\n",
        "        user_input = input(\"log: \")\n",
        "        log = f\"{datetime.now()} - {user_input}\"\n",
        "        with open(OUTPATH, mode=\"a+\") as f:\n",
        "            f.write(f\"{log}\\n\")\n",
        "        print(log)\n",
        "\n",
        "\n",
        "if __name__ == \"__main__\":\n",
        "    main()\n"
      ]
    },
    {
      "cell_type": "markdown",
      "id": "13",
      "metadata": {
        "slideshow": {
          "slide_type": "fragment"
        }
      },
      "source": [
        "![log_output](images/log_output.png)"
      ]
    }
  ],
  "metadata": {
    "celltoolbar": "Slideshow",
    "kernelspec": {
      "display_name": "Python 3.8.12 64-bit ('.env-eigeneko': venv)",
      "language": "python",
      "name": "python3812jvsc74a57bd04eee3b84c16cd653c9409d307a1e0cdaeaa31ed4117853a4ee7c842a85681cd7"
    },
    "language_info": {
      "codemirror_mode": {
        "name": "ipython",
        "version": 3
      },
      "file_extension": ".py",
      "mimetype": "text/x-python",
      "name": "python",
      "nbconvert_exporter": "python",
      "pygments_lexer": "ipython3",
      "version": "3.8.12"
    }
  },
  "nbformat": 4,
  "nbformat_minor": 5
}