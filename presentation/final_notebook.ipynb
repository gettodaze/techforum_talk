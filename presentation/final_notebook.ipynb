{
  "cells": [
    {
      "cell_type": "markdown",
      "id": "0",
      "metadata": {
        "slideshow": {
          "slide_type": "slide"
        }
      },
      "source": [
        "# My Title"
      ]
    },
    {
      "cell_type": "markdown",
      "id": "1",
      "metadata": {
        "slideshow": {
          "slide_type": "fragment"
        }
      },
      "source": [
        "- John McCloskey"
      ]
    },
    {
      "cell_type": "markdown",
      "id": "2",
      "metadata": {
        "slideshow": {
          "slide_type": "slide"
        }
      },
      "source": [
        "# Intro"
      ]
    },
    {
      "cell_type": "markdown",
      "id": "3",
      "metadata": {
        "slideshow": {
          "slide_type": "fragment"
        }
      },
      "source": [
        "Hi everyone, and welcome to my talk. I'm John McCloskey and I am on a mission to get all of you to consider using python in your everyday lives. For the non-programmers out there, I know you might think, but I don't know programming, and besides where would I ever have the opportunity to use python in my every day life? I have two answers to that."
      ]
    },
    {
      "cell_type": "markdown",
      "id": "4",
      "metadata": {
        "slideshow": {
          "slide_type": "fragment"
        }
      },
      "source": [
        "1) It's simpler than you might expect!"
      ]
    },
    {
      "cell_type": "markdown",
      "id": "5",
      "metadata": {
        "slideshow": {
          "slide_type": "fragment"
        }
      },
      "source": [
        "2) Let us go through some examples of where you might want to use python."
      ]
    },
    {
      "cell_type": "markdown",
      "id": "6",
      "metadata": {
        "slideshow": {
          "slide_type": "slide"
        }
      },
      "source": [
        "# Use Case 1:"
      ]
    },
    {
      "cell_type": "markdown",
      "id": "7",
      "metadata": {
        "slideshow": {
          "slide_type": "fragment"
        }
      },
      "source": [
        "- Imagine, you are sitting at your desk at research affiliates. It's time for morning standup and you need to have a progress report from yesterday. For that specific purpose, you have a log you keep track of:"
      ]
    },
    {
      "cell_type": "markdown",
      "id": "8",
      "metadata": {
        "slideshow": {
          "slide_type": "fragment"
        }
      },
      "source": [
        "![example_log](images/example_log.png)"
      ]
    },
    {
      "cell_type": "markdown",
      "id": "9",
      "metadata": {
        "slideshow": {
          "slide_type": "fragment"
        }
      },
      "source": [
        "- You realize you actually spend a lot of your time writing the time! If only you could easily make note of writing what you're doing, without having to figure out what time it is and write it out. It will probably save you at least 30 minutes a week."
      ]
    },
    {
      "cell_type": "markdown",
      "id": "10",
      "metadata": {
        "slideshow": {
          "slide_type": "fragment"
        }
      },
      "source": [
        "- But you can't find the exact program that fits your needs! Well, Python can do that for you:"
      ]
    },
    {
      "cell_type": "markdown",
      "id": "11",
      "metadata": {
        "slideshow": {
          "slide_type": "subslide"
        }
      },
      "source": [
        "## Basic Time Logger"
      ]
    },
    {
      "cell_type": "code",
      "execution_count": null,
      "id": "12",
      "metadata": {
        "slideshow": {
          "slide_type": "fragment"
        }
      },
      "outputs": [],
      "source": [
        "from datetime import datetime\n",
        "\n",
        "OUTPATH = \"/home/mccloskey/src/john/techforum_talk/output/my_logs.txt\"\n",
        "\n",
        "def main():\n",
        "    while True:\n",
        "        user_input = input(\"log: \")\n",
        "        log = f\"{datetime.now()} - {user_input}\"\n",
        "        with open(OUTPATH, mode=\"a+\") as f:\n",
        "            f.write(f\"{log}\\n\")\n",
        "        print(log)\n",
        "\n",
        "\n",
        "if __name__ == \"__main__\":\n",
        "    main()\n"
      ]
    },
    {
      "cell_type": "markdown",
      "id": "13",
      "metadata": {
        "slideshow": {
          "slide_type": "fragment"
        }
      },
      "source": [
        "![log_output](images/log_output.png)"
      ]
    },
    {
      "cell_type": "markdown",
      "id": "14",
      "metadata": {
        "slideshow": {
          "slide_type": "slide"
        }
      },
      "source": [
        "# Use Case 2:"
      ]
    },
    {
      "cell_type": "markdown",
      "id": "15",
      "metadata": {
        "slideshow": {
          "slide_type": "fragment"
        }
      },
      "source": [
        "- Imagine you now have a bunch of images, and you need to organize them!"
      ]
    },
    {
      "cell_type": "markdown",
      "id": "16",
      "metadata": {
        "slideshow": {
          "slide_type": "fragment"
        }
      },
      "source": [
        "![bad_images_nautilus](images/bad_images_nautilus.png)"
      ]
    },
    {
      "cell_type": "markdown",
      "id": "17",
      "metadata": {
        "slideshow": {
          "slide_type": "fragment"
        }
      },
      "source": [
        "- You could do this by hand, but if you have hundreds of images, that could take a long time."
      ]
    },
    {
      "cell_type": "markdown",
      "id": "18",
      "metadata": {
        "slideshow": {
          "slide_type": "subslide"
        }
      },
      "source": [
        "## You can write a simple program to do make this a lot easier"
      ]
    },
    {
      "cell_type": "markdown",
      "id": "19",
      "metadata": {
        "slideshow": {
          "slide_type": "fragment"
        }
      },
      "source": [
        "- Setup:"
      ]
    },
    {
      "cell_type": "code",
      "execution_count": null,
      "id": "20",
      "metadata": {
        "slideshow": {
          "slide_type": "fragment"
        }
      },
      "outputs": [],
      "source": [
        "from pathlib import Path\n",
        "import shutil\n",
        "from PIL import Image\n",
        "\n",
        "input_path = Path(\"input\")\n",
        "output_path = Path(\"output\")\n"
      ]
    },
    {
      "cell_type": "markdown",
      "id": "21",
      "metadata": {
        "slideshow": {
          "slide_type": "subslide"
        }
      },
      "source": [
        "## Main Loop:"
      ]
    },
    {
      "cell_type": "code",
      "execution_count": null,
      "id": "22",
      "metadata": {
        "slideshow": {
          "slide_type": "fragment"
        }
      },
      "outputs": [],
      "source": [
        "for path in input_path.iterdir():\n",
        "    if path.suffix != \".jpg\":\n",
        "        continue\n",
        "    image = Image.open(path)\n",
        "    # subprocess.run([\"code\", path]) # for WSL, open in vscode server\n",
        "    image.show()  # for Windows/Linux/Mac\n",
        "    while True:\n",
        "        output_path.mkdir(parents=True, exist_ok=True)\n",
        "        new_name = input(f\"Current name: {path.stem}.\\nNew name? \")\n",
        "        new_path = output_path / f\"{new_name}{path.suffix}\"\n",
        "\n",
        "        msg = f\"Copying {path} to {new_path}. \"\n",
        "        if new_path.exists():\n",
        "            msg += f\"WARNING: {new_path} already exists. \"\n",
        "        answer = input(msg + \"Okay? [y/n]\").lower()\n",
        "        if answer in {\"y\", \"yes\"}:\n",
        "            shutil.copyfile(path, new_path)\n",
        "            print(f\"Copied {path} to {new_path}. \")\n",
        "            break\n",
        "        elif answer in {\"n\", \"no\"}:\n",
        "            pass\n",
        "        elif answer in {\"s\", \"skip\"}:\n",
        "            print(\"Not copying.\")\n",
        "            break\n",
        "        else:\n",
        "            print(f\"Invalid answer: {answer}. Must be [y]es, [n]o or [s]kip.\")\n"
      ]
    },
    {
      "cell_type": "markdown",
      "id": "23",
      "metadata": {
        "slideshow": {
          "slide_type": "subslide"
        }
      },
      "source": [
        "## Example:"
      ]
    },
    {
      "cell_type": "markdown",
      "id": "24",
      "metadata": {
        "slideshow": {
          "slide_type": "fragment"
        }
      },
      "source": [
        "![renaming_springrolls](images/renaming_springrolls.png)"
      ]
    },
    {
      "cell_type": "markdown",
      "id": "25",
      "metadata": {
        "slideshow": {
          "slide_type": "subslide"
        }
      },
      "source": [
        "## Extending further:"
      ]
    },
    {
      "cell_type": "markdown",
      "id": "26",
      "metadata": {
        "slideshow": {
          "slide_type": "fragment"
        }
      },
      "source": [
        "- The joy of this, is that we can keep adding features. Suppose we want to sort each image by month. It turns out, that data is embedded in the image and we just need to access it."
      ]
    },
    {
      "cell_type": "markdown",
      "id": "27",
      "metadata": {
        "slideshow": {
          "slide_type": "fragment"
        }
      },
      "source": [
        "- A quick google search shows that this can be done with the PIL library, using:"
      ]
    },
    {
      "cell_type": "code",
      "execution_count": null,
      "id": "28",
      "metadata": {
        "slideshow": {
          "slide_type": "fragment"
        }
      },
      "outputs": [],
      "source": [
        "Image.open(path).getexif()\n",
        "# {296: 2, 282: 72.0, 256: 4000, 257: 1824, 34853: 788, 34665: 240, 271: 'OnePlus', \n",
        "# 272: 'GM1917', 305: 'Picasa', 274: 1, 306: '2022:04:14 09:53:28', 530: (2, 2), \n",
        "# 531: 1, 283: 72.0}\n"
      ]
    },
    {
      "cell_type": "markdown",
      "id": "29",
      "metadata": {
        "slideshow": {
          "slide_type": "subslide"
        }
      },
      "source": [
        "## So we can write a quick function to extract and parse the entry for 306"
      ]
    },
    {
      "cell_type": "code",
      "execution_count": null,
      "id": "30",
      "metadata": {
        "slideshow": {
          "slide_type": "fragment"
        }
      },
      "outputs": [],
      "source": [
        "def extract_month(image: Image.Image) -> typing.Optional[str]:\n",
        "    metadata = image.getexif()\n",
        "    if 306 not in metadata:\n",
        "        return None\n",
        "    timestamp_text = metadata[306]\n",
        "    try:\n",
        "        timestamp = datetime.strptime(timestamp_text, \"%Y:%m:%d %H:%M:%S\")\n",
        "    except ValueError:\n",
        "        return None\n",
        "\n",
        "    return timestamp.strftime(\"%Y %B\")\n"
      ]
    },
    {
      "cell_type": "markdown",
      "id": "31",
      "metadata": {
        "slideshow": {
          "slide_type": "subslide"
        }
      },
      "source": [
        "## And then plug that back into the main loop"
      ]
    },
    {
      "cell_type": "code",
      "execution_count": null,
      "id": "32",
      "metadata": {
        "slideshow": {
          "slide_type": "fragment"
        }
      },
      "outputs": [],
      "source": [
        "month = extract_month(image)\n",
        "while True:\n",
        "    month_path = output_path if month is None else output_path / month\n",
        "    month_path.mkdir(parents=True, exist_ok=True)\n",
        "    new_name = input(f\"Current name: {path.stem}.\\nNew name? \")\n",
        "    new_path = month_path / f\"{new_name}{path.suffix}\"\n",
        "    ...\n"
      ]
    },
    {
      "cell_type": "markdown",
      "id": "33",
      "metadata": {
        "slideshow": {
          "slide_type": "subslide"
        }
      },
      "source": [
        "## And this file is put in \"2022 April\":"
      ]
    },
    {
      "cell_type": "markdown",
      "id": "34",
      "metadata": {
        "slideshow": {
          "slide_type": "fragment"
        }
      },
      "source": [
        "![bounces_on_floor_example](images/bounces_on_floor_example.png)"
      ]
    }
  ],
  "metadata": {
    "celltoolbar": "Slideshow",
    "kernelspec": {
      "display_name": "Python 3.8.12 64-bit ('.env-eigeneko': venv)",
      "language": "python",
      "name": "python3812jvsc74a57bd04eee3b84c16cd653c9409d307a1e0cdaeaa31ed4117853a4ee7c842a85681cd7"
    },
    "language_info": {
      "codemirror_mode": {
        "name": "ipython",
        "version": 3
      },
      "file_extension": ".py",
      "mimetype": "text/x-python",
      "name": "python",
      "nbconvert_exporter": "python",
      "pygments_lexer": "ipython3",
      "version": "3.8.12"
    }
  },
  "nbformat": 4,
  "nbformat_minor": 5
}